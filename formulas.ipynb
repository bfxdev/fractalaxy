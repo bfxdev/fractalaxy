{
    "cells": [
        {
            "cell_type": "markdown",
            "source": [
                "# Formulas used in Fractalaxy"
            ],
            "metadata": {}
        },
        {
            "cell_type": "markdown",
            "source": [
                " [Fractalaxy](https://github.com/bfxdev/fractalaxy) relies on vector and complex number transformations. This Jupyter notebook shows the underlying concepts and explains where the formulas come from."
            ],
            "metadata": {}
        },
        {
            "cell_type": "markdown",
            "source": [
                "## Map Controller 2D"
            ],
            "metadata": {}
        },
        {
            "cell_type": "markdown",
            "source": [
                "`MapController2D` is GDScript attached to the main rendering node. It receives `InputEvent` signals in its `_input` function and maintain values of exported variables used by the renderer. This script is generic and can be used for any 2D object that can be panned, zoomed or rotated."
            ],
            "metadata": {}
        },
        {
            "cell_type": "markdown",
            "source": [
                "The following variables are used for computations and represent the **orthogonal basis of the reference frame in the Map** (typed as `Vector2`):\r\n",
                "\r\n",
                " - $\\vec O$ or `Origin`: coordinates in Map of the point on the top left of the rendered area\r\n",
                " - $\\vec X$ or `HorizontalUnit`: distance in Map between two pixels in the horizontal direction to the right of the rendered area\r\n",
                " - $\\vec Y$ or `VerticalUnit`: distance in Map between two pixels in the vertical direction to the bottom of the rendered area"
            ],
            "metadata": {}
        },
        {
            "cell_type": "markdown",
            "source": [
                "The following ones are maintained as alternatives for rendering:\r\n",
                "\r\n",
                "- `Center`: coordinates in Map of the center of the rendered area (`Vector2`)\r\n",
                "- `Radius`: the radius of the zone in the rendered area guaranteed to be visible after any resize or switch landscape/portrait"
            ],
            "metadata": {}
        },
        {
            "cell_type": "code",
            "execution_count": null,
            "source": [],
            "outputs": [],
            "metadata": {}
        }
    ],
    "metadata": {
        "orig_nbformat": 4,
        "language_info": {
            "name": "python",
            "version": "3.6.8",
            "mimetype": "text/x-python",
            "codemirror_mode": {
                "name": "ipython",
                "version": 3
            },
            "pygments_lexer": "ipython3",
            "nbconvert_exporter": "python",
            "file_extension": ".py"
        },
        "kernelspec": {
            "name": "python3",
            "display_name": "Python 3.6.8 64-bit"
        },
        "interpreter": {
            "hash": "1c07045a52bc289f478620078fc3406c00f13f88add91e209d491200c2dd3f38"
        }
    },
    "nbformat": 4,
    "nbformat_minor": 2
}
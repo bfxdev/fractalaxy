{
    "cells": [
        {
            "cell_type": "markdown",
            "metadata": {},
            "source": [
                "# Formulas used in Fractalaxy"
            ]
        },
        {
            "cell_type": "markdown",
            "metadata": {},
            "source": [
                " [Fractalaxy](https://github.com/bfxdev/fractalaxy) relies on vector and complex number transformations. This Jupyter notebook shows the underlying concepts and explains where the formulas come from."
            ]
        },
        {
            "cell_type": "markdown",
            "metadata": {},
            "source": [
                "## Map Controller 2D"
            ]
        },
        {
            "cell_type": "markdown",
            "metadata": {},
            "source": [
                "`MapController2D` is a GDScript attached to the main rendering node. It receives `InputEvent` signals in its `_input` function and maintain values of exported variables used by the renderer. This script is generic and can be used for any 2D object that can be panned, zoomed or rotated."
            ]
        },
        {
            "cell_type": "markdown",
            "metadata": {},
            "source": [
                "The following variables are used for computation and form the [affine coordinate system](https://encyclopediaofmath.org/wiki/Affine_coordinate_system) of the rendered location on the Map. This can be seen as an **orthogonal basis of the reference frame in the Map**. The variables are typed as `Vector2` and can be defined in the context of rendering as following:\n",
                "\n",
                " - $\\vec O$ or `Origin`: coordinates in Map of the point on the top left of the rendered area\n",
                " - $\\vec x$ or `HorizontalBasis`: vector in map coordinates to go from one rendered pixel to the neighbor pixel to the right\n",
                " - $\\vec y$ or `VerticalBasis`: vector in map coordinates to go from one rendered pixel to the neighbor pixel down"
            ]
        },
        {
            "cell_type": "markdown",
            "metadata": {},
            "source": [
                "The following variables are maintained as help for rendering:\n",
                "\n",
                "- `Resolution` : size in pixels of the rendered area (`Vector2`)\n",
                "- `Center` : coordinates in Map of the center of the rendered area (`Vector2`)\n",
                "- `Diameter` : diameter of the central disk of the rendered area, guaranteed to be visible after any resize or switch landscape/portrait (`float`)\n",
                "- `Zoom` : zoom factor, i.e. number of pixels per Map distance unit (`float`)\n",
                "- `Angle` : rotation angle of the basis vectors in Radians (`float`)"
            ]
        },
        {
            "cell_type": "markdown",
            "metadata": {},
            "source": [
                "### Basic change of reference frame"
            ]
        },
        {
            "cell_type": "markdown",
            "metadata": {},
            "source": [
                "In the rendering code, it is necessary to perform transformations between the \"screen coordinates\" (in pixels with $(0,0)$ being the top left corner of the rendered area) and \"Map coordinates\":"
            ]
        },
        {
            "cell_type": "markdown",
            "metadata": {},
            "source": [
                "%%svg\n",
                "<svg><ellipse style=\"fill:#00ff00;stroke:#000000;\" cx=\"50\" cy=\"50\" rx=\"48\" ry=\"48\"><ellipse></svg>"
            ]
        },
        {
            "cell_type": "markdown",
            "metadata": {},
            "source": []
        }
    ],
    "metadata": {
        "interpreter": {
            "hash": "1c07045a52bc289f478620078fc3406c00f13f88add91e209d491200c2dd3f38"
        },
        "kernelspec": {
            "display_name": "Python 3.6.8 64-bit",
            "name": "python3"
        },
        "language_info": {
            "codemirror_mode": {
                "name": "ipython",
                "version": 3
            },
            "file_extension": ".py",
            "mimetype": "text/x-python",
            "name": "python",
            "nbconvert_exporter": "python",
            "pygments_lexer": "ipython3",
            "version": "3.6.8"
        },
        "orig_nbformat": 4
    },
    "nbformat": 4,
    "nbformat_minor": 2
}

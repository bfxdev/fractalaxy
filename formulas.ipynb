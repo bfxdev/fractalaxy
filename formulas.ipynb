{
    "cells": [
        {
            "cell_type": "markdown",
            "metadata": {},
            "source": [
                "# Formulas used in Fractalaxy"
            ]
        },
        {
            "cell_type": "markdown",
            "metadata": {},
            "source": [
                " [Fractalaxy](https://github.com/bfxdev/fractalaxy) relies on vector and complex number transformations. This Jupyter notebook shows the underlying concepts and explains where the formulas come from."
            ]
        },
        {
            "cell_type": "markdown",
            "metadata": {},
            "source": [
                "## Map Controller 2D"
            ]
        },
        {
            "cell_type": "markdown",
            "metadata": {},
            "source": [
                "`MapController2D` is a GDScript attached to the main rendering node. It receives `InputEvent` signals in its `_input` function and maintain values of exported variables used by the renderer. This script is generic and can be used for any 2D object that can be panned, zoomed or rotated."
            ]
        },
        {
            "cell_type": "markdown",
            "metadata": {},
            "source": [
                "The following variables form an [affine coordinate system](https://encyclopediaofmath.org/wiki/Affine_coordinate_system) of the rendered location on the Map. This can be seen as an **orthogonal basis of the reference frame in the Map**. The variables are `Vector2` objects and can be defined as following:\n",
                "\n",
                " - $\\vec O$ or `Origin`: coordinates in Map of the point on the top left of the rendered area\n",
                " - $\\vec X$ or `HorizontalBasis`: vector in map coordinates to go from one rendered pixel to the neighbor pixel to the right\n",
                " - $\\vec Y$ or `VerticalBasis`: vector in map coordinates to go from one rendered pixel to the neighbor pixel down\n",
                "\n",
                "The definitions above are given with rendering in mind, and could be probably stated more rigorously. The 3 vectors are sufficient to define any observer on the Map, after transformations such as pan, zoom or rotation. The basis vectors will be kept orthogonal to avoid skew and their length will be kept equal to preserve aspect ratio."
            ]
        },
        {
            "cell_type": "markdown",
            "metadata": {},
            "source": [
                "The following variables are computed from the 3 main basis vectors, and made available as help for rendering:\n",
                "\n",
                "- $\\vec C$ or `Center` : coordinates in Map of the center of the rendered area (`Vector2`)\n",
                "- $D$ or `Diameter` : diameter of the central disk of the rendered area, guaranteed to be visible after any resize or switch landscape/portrait (`float`)\n",
                "- $Z$ or `Zoom` : zoom factor, i.e. number of pixels per Map distance unit (`float`)\n",
                "- $\\alpha$ or `Angle` : rotation angle of the basis vectors in Radians (`float`)\n",
                "\n",
                "Finally, the size of the area is provided as necessary parameter:\n",
                "- $\\vec R$ or `Resolution` : size in pixels of the rendered area (`Vector2`)"
            ]
        },
        {
            "cell_type": "markdown",
            "metadata": {},
            "source": [
                "### Basic change of reference frame\n",
                "\n",
                "In the rendering code, it is necessary to perform transformations between the \"screen coordinates\" (rendered area in pixels starting at the top left corner) and \"Map coordinates\".\n",
                "\n",
                "Typically in a shader it is necessary to compute the Map coordinates of point $\\vec M$ on  the Map, from the screen coordinates $(x,y)$:\n",
                "\n",
                "$$\\begin{equation*} \\vec M = \\vec O + x\\vec X + y\\vec Y \\tag{1} \\end{equation*}$$\n",
                "\n",
                "This equation is a classical change of reference frame. The start reference frame is the rendered area on the screen, with positive values for $x$ and $y$ (even if the vertical axis points to the bottom). The final reference frame is the area observed on the Map (like a camera), delimited by a rectangular window, image of the rendered area through the transformation.\n",
                "\n",
                "It can be used to directly determine the `Center` of the rendered area:\n",
                "\n",
                "$$\\vec C = \\vec O + \\frac{R_x}{2}\\vec X + \\frac{R_y}{2}\\vec Y$$"
            ]
        },
        {
            "cell_type": "markdown",
            "metadata": {},
            "source": [
                "\n",
                "### Principle for a naturally feeling user interface\n",
                "\n",
                "Any kind of movement of the observer will change the values of the vectors of the orthogonal basis. Basically, panning the Map means changing the `Origin` in the opposite direction as the movement of the observer. Zooming and rotating will involve a change of the 3 variables in most cases (i.e. the `Origin` will not change only if it is at the coordinates as the center of the transformation). \n",
                "\n",
                "The user interacts using the mouse, a touch screen or a keyboard to change its view on the map. Touch and mouse gestures will affect the movements of the observer on the map following this general principle: **during observer movements, the touch points remain invariant in Map coordinates**. As a result, it gives the very natural feeling that the Map just follows the fingers or mouse pointer."
            ]
        },
        {
            "cell_type": "markdown",
            "metadata": {},
            "source": [
                "### Pan with one touch point\n",
                "\n",
                "Panning is the simplest movement, based on a single touch point. The movement is defined between two successive rendered frames (images rendered by the engine):\n",
                "\n",
                "- Frame $N$ : At this frame the current values of $\\vec O$, $\\vec X$ and $\\vec Y$ are known, and the single touch point $\\vec P$ is active\n",
                "- Frame $N+1$ : New values of $\\vec O'$, $\\vec X'$ and $\\vec Y'$ are the unknowns to be determined, and the single touch point ist still active as $\\vec P' = \\vec P + \\vec \\Delta$\n",
                "\n",
                "An arbitrary point in two successive rendered frames has the Map coordinates:\n",
                "$$\\vec{M} = \\vec{O} + P_{x}\\vec{X} + P_{y}\\vec{Y}$$\n",
                "$$\\vec{M'} = \\vec{O'} + (P_x+\\Delta_x)\\vec{X'} + (P_y+\\Delta_y)\\vec{Y'}$$\n",
                "\n",
                "Now following the general principle stated above, the touch point $\\vec M$ remains invariant after transformation:\n",
                "$$\\vec{M'} = \\vec{M}$$\n",
                "\n",
                "After replacement:\n",
                "$$\\vec{O'} + (P_x+\\Delta_x)\\vec{X'} + (P_y+\\Delta_y)\\vec{Y'} = \\vec{O} + P_{x}\\vec{X} + P_{y}\\vec{Y} \\tag{2}$$\n",
                "\n",
                "At this point, because it is a pan operation, it can be assumed that $\\vec X' = \\vec X$ and $\\vec Y' = \\vec Y$ (pure translation). Consequently the equation can be simplified to:\n",
                "\n",
                "$$\\vec{O'} = \\vec{O} - \\Delta_x\\vec{X} - \\Delta_y\\vec{Y}$$"
            ]
        },
        {
            "cell_type": "markdown",
            "metadata": {},
            "source": [
                "### Zoom by a factor around one touch point\n",
                "\n",
                "A simple way to zoom is to multiply the basis vectors $\\vec X$ and $\\vec Y$ by the same factor $a$. Such a simple zoom is centered on the Origin, which is not the most convenient for the user.Now if the mouse wheel is used to zoom, the mouse pointer can act as center of the transformation, the Map would be zoomed around it.\n",
                "\n",
                "The equation 2 can be re-used, with the difference that the touch point is not moving, i.e. $\\vec \\Delta = \\vec 0$:\n",
                "\n",
                "$$\\vec{O'} + P_x\\vec{X'} + P_y\\vec{Y'} = \\vec{O} + P_{x}\\vec{X} + P_{y}\\vec{Y}$$\n",
                "\n",
                "The zoom factor $a$ is introduced and the main equation can be simplified:\n",
                "\n",
                "$$\\vec X' = a\\vec X \\newline\n",
                "  \\vec Y' = a\\vec Y \\newline\n",
                "  \\vec{O'} = \\vec{O} + (1-a)P_{x}\\vec{X} + (1-a)P_{y}\\vec{Y}$$"
            ]
        }
    ],
    "metadata": {
        "interpreter": {
            "hash": "1c07045a52bc289f478620078fc3406c00f13f88add91e209d491200c2dd3f38"
        },
        "kernelspec": {
            "display_name": "Python 3.6.8 64-bit",
            "name": "python3"
        },
        "language_info": {
            "codemirror_mode": {
                "name": "ipython",
                "version": 3
            },
            "file_extension": ".py",
            "mimetype": "text/x-python",
            "name": "python",
            "nbconvert_exporter": "python",
            "pygments_lexer": "ipython3",
            "version": "3.6.8"
        },
        "orig_nbformat": 4
    },
    "nbformat": 4,
    "nbformat_minor": 2
}
